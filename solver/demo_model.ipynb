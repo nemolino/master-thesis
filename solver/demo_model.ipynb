{
 "cells": [
  {
   "cell_type": "code",
   "execution_count": null,
   "metadata": {},
   "outputs": [],
   "source": [
    "from random import random, choice, seed\n",
    "import pickle\n",
    "\n",
    "from merge_apps_util import merge\n",
    "from instance import Instance, InfeasibleOnBuilding\n",
    "from model import ModelSolver"
   ]
  },
  {
   "cell_type": "markdown",
   "metadata": {},
   "source": [
    "# Generazione dataset di instanze di mapping di multiple applicazioni"
   ]
  },
  {
   "cell_type": "code",
   "execution_count": null,
   "metadata": {},
   "outputs": [],
   "source": [
    "seed(42)\n",
    "\n",
    "if False:\n",
    "    path_apps, tree_apps, graph_apps = [], [], []\n",
    "    for size in range(3,16):\n",
    "        path_apps.append(f\"path_{size:02d}_a\")\n",
    "        tree_apps.append(f\"tree_{size:02d}_a\")\n",
    "        tree_apps.append(f\"tree_{size:02d}_b\")\n",
    "        tree_apps.append(f\"tree_{size:02d}_c\")\n",
    "        tree_apps.append(f\"tree_{size:02d}_d\")\n",
    "        graph_apps.append(f\"graph_{size:02d}_a\")\n",
    "        graph_apps.append(f\"graph_{size:02d}_b\")\n",
    "        graph_apps.append(f\"graph_{size:02d}_c\")\n",
    "        graph_apps.append(f\"graph_{size:02d}_d\")\n",
    "\n",
    "    # for a in path_apps: print(a)\n",
    "    # for a in tree_apps: print(a)\n",
    "    # for a in graph_apps: print(a)\n",
    "\n",
    "    ID = 0\n",
    "    instances = []\n",
    "    for n_size in range(30,91,10):\n",
    "        for apps_count in range(2,31):\n",
    "\n",
    "            for _ in range(3):\n",
    "\n",
    "                n_suffix = choice(['a','b','c','d'])\n",
    "                n_rp = choice([0,1,2,3,4])\n",
    "                network_filename = f\"DATASET_2/networks/network_{n_size:03d}_{n_suffix}.dat\"\n",
    "                network_rp_filename = f\"DATASET_2/networks/network_{n_size:03d}_{n_suffix}_rp_{n_rp}.dat\"\n",
    "\n",
    "                app_filenames, app_rp_filenames = [], []\n",
    "                for _ in range(apps_count): \n",
    "                    r = random()\n",
    "                    if r < 0.2: app = choice(path_apps)     # 0.2 prob to choose path\n",
    "                    elif r < 0.6: app = choice(tree_apps)   # 0.4 prob to choose tree\n",
    "                    else: app = choice(graph_apps)          # 0.4 prob to choose graph\n",
    "                    a_rp = choice((0,1,2,3,4))\n",
    "                    app_filenames.append(f\"DATASET_2/apps/{app}.dat\")\n",
    "                    app_rp_filenames.append(f\"DATASET_2/apps/{app}_rp_{a_rp}.dat\")\n",
    "\n",
    "                output_app_filename = f\"DATASET_2/apps_merged_FINAL2/id_{ID:04d}.dat\"\n",
    "                output_app_rp_filename = f\"DATASET_2/apps_merged_FINAL2/id_{ID:04d}_rp.dat\"\n",
    "                ID += 1\n",
    "\n",
    "                try:\n",
    "                    merge(app_filenames, app_rp_filenames, output_app_filename, output_app_rp_filename)\n",
    "                except Exception as e:\n",
    "                    print(\"ERROR in merge, should not happen!\")\n",
    "                \n",
    "                instances.append(\n",
    "                    (network_filename, network_rp_filename, output_app_filename, output_app_rp_filename, app_filenames, app_rp_filenames)\n",
    "                )\n",
    "\n",
    "    # for i in instances:\n",
    "    #     print(i)\n",
    "\n",
    "    # with open('dumps/instances_dataset_FINAL.pickle', 'wb') as f:\n",
    "    #    pickle.dump(instances, f, protocol=pickle.HIGHEST_PROTOCOL)"
   ]
  },
  {
   "cell_type": "markdown",
   "metadata": {},
   "source": [
    "Le istanze sono salvate nel file :  instances_dataset_FINAL.pickle"
   ]
  },
  {
   "cell_type": "code",
   "execution_count": null,
   "metadata": {},
   "outputs": [],
   "source": [
    "with open('dumps/instances_dataset_FINAL.pickle', 'rb') as f:\n",
    "   instances = pickle.load(f)\n",
    "\n",
    "#for i in instances: print(i)"
   ]
  },
  {
   "cell_type": "markdown",
   "metadata": {},
   "source": [
    "# Root Node Relaxation"
   ]
  },
  {
   "cell_type": "code",
   "execution_count": null,
   "metadata": {},
   "outputs": [],
   "source": [
    "if False:\n",
    "\n",
    "    for idx,i in enumerate(instances):\n",
    "\n",
    "        print()\n",
    "        print(idx, len(i[4]), i)\n",
    "        try:\n",
    "            instance = Instance.build(\n",
    "                network_filename=i[0], \n",
    "                network_rp_filename=i[1], \n",
    "                app_filename=i[2], \n",
    "                app_rp_filename=i[3]\n",
    "            )\n",
    "        except InfeasibleOnBuilding:\n",
    "            print(\"INFEASIBLE on building\")\n",
    "            continue\n",
    "\n",
    "        result_rnr = ModelSolver.optimize_model_at_root_node(instance)\n",
    "        print(f\"RNR {result_rnr}\")\n",
    "        \n",
    "        if isinstance(result_rnr,tuple) and len(result_rnr) == 3:\n",
    "\n",
    "            assert result_rnr[1] == \"INFEASIBLE\" or result_rnr[1] == \"OPTIMAL\""
   ]
  },
  {
   "cell_type": "markdown",
   "metadata": {},
   "source": [
    "# Compact Model con time limit 30 min delle istanze non RNR infeasible"
   ]
  },
  {
   "cell_type": "code",
   "execution_count": null,
   "metadata": {},
   "outputs": [],
   "source": [
    "with open('dumps/rnr_feasible_instances_indexes.pickle', 'rb') as f:\n",
    "   indexes = pickle.load(f)"
   ]
  },
  {
   "cell_type": "code",
   "execution_count": null,
   "metadata": {},
   "outputs": [],
   "source": [
    "for network_size in indexes:\n",
    "        \n",
    "    for idx in indexes[network_size]:\n",
    "\n",
    "        i = instances[idx]\n",
    "        print()\n",
    "        print(idx, len(i[4]), i)\n",
    "        try:\n",
    "            instance = Instance.build(\n",
    "                network_filename=i[0], \n",
    "                network_rp_filename=i[1], \n",
    "                app_filename=i[2], \n",
    "                app_rp_filename=i[3]\n",
    "            )\n",
    "        except InfeasibleOnBuilding:\n",
    "            print(\"INFEASIBLE on building\")\n",
    "            continue\n",
    "\n",
    "        result_compact = ModelSolver.optimize_model(instance)\n",
    "        print(f\"COMPACT {result_compact}\")"
   ]
  }
 ],
 "metadata": {
  "kernelspec": {
   "display_name": "Python 3",
   "language": "python",
   "name": "python3"
  },
  "language_info": {
   "codemirror_mode": {
    "name": "ipython",
    "version": 3
   },
   "file_extension": ".py",
   "mimetype": "text/x-python",
   "name": "python",
   "nbconvert_exporter": "python",
   "pygments_lexer": "ipython3",
   "version": "3.12.1"
  }
 },
 "nbformat": 4,
 "nbformat_minor": 2
}
