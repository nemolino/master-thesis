{
 "cells": [
  {
   "cell_type": "code",
   "execution_count": 1,
   "metadata": {},
   "outputs": [],
   "source": [
    "import pickle\n",
    "\n",
    "from CG_basic import ColumnGeneration"
   ]
  },
  {
   "cell_type": "code",
   "execution_count": 2,
   "metadata": {},
   "outputs": [],
   "source": [
    "with open('dumps/instances_dataset_FINAL.pickle', 'rb') as f:\n",
    "   instances = pickle.load(f)\n",
    "\n",
    "with open('dumps/rnr_feasible_instances_indexes.pickle', 'rb') as f:\n",
    "   indexes = pickle.load(f)"
   ]
  },
  {
   "cell_type": "code",
   "execution_count": 3,
   "metadata": {},
   "outputs": [
    {
     "name": "stdout",
     "output_type": "stream",
     "text": [
      "0 2 apps, DATASET_2/networks/network_030_a_rp_0.dat DATASET_2/apps_merged_FINAL/id_0000.dat\n",
      "\n",
      "STOP, gap < 0.1 %\n",
      "#iterations 3 LR_dual_bound 410.2759832256602 CG_time 1.059\n",
      "\n",
      "--------------------------------------------------------------------------------\n",
      "\n",
      "1 2 apps, DATASET_2/networks/network_030_a_rp_4.dat DATASET_2/apps_merged_FINAL/id_0001.dat\n",
      "\n",
      "STOP, gap < 0.1 %\n",
      "#iterations 6 LR_dual_bound 570.2159775190686 CG_time 0.788\n",
      "\n",
      "--------------------------------------------------------------------------------\n",
      "\n",
      "2 2 apps, DATASET_2/networks/network_030_a_rp_4.dat DATASET_2/apps_merged_FINAL/id_0002.dat\n"
     ]
    },
    {
     "ename": "KeyboardInterrupt",
     "evalue": "",
     "output_type": "error",
     "traceback": [
      "\u001b[1;31m---------------------------------------------------------------------------\u001b[0m",
      "\u001b[1;31mKeyboardInterrupt\u001b[0m                         Traceback (most recent call last)",
      "Cell \u001b[1;32mIn[3], line 18\u001b[0m\n\u001b[0;32m     10\u001b[0m \u001b[38;5;28;01mtry\u001b[39;00m:\n\u001b[0;32m     11\u001b[0m     cg \u001b[38;5;241m=\u001b[39m ColumnGeneration(\n\u001b[0;32m     12\u001b[0m         N\u001b[38;5;241m=\u001b[39m \u001b[38;5;28mlen\u001b[39m(app_filenames),\n\u001b[0;32m     13\u001b[0m         filenames\u001b[38;5;241m=\u001b[39m (\n\u001b[1;32m   (...)\u001b[0m\n\u001b[0;32m     16\u001b[0m         )\n\u001b[0;32m     17\u001b[0m     )\n\u001b[1;32m---> 18\u001b[0m     result \u001b[38;5;241m=\u001b[39m \u001b[43mcg\u001b[49m\u001b[38;5;241;43m.\u001b[39;49m\u001b[43mexecute\u001b[49m\u001b[43m(\u001b[49m\u001b[43m)\u001b[49m\n\u001b[0;32m     19\u001b[0m \u001b[38;5;28;01mexcept\u001b[39;00m \u001b[38;5;167;01mException\u001b[39;00m \u001b[38;5;28;01mas\u001b[39;00m e:\n\u001b[0;32m     20\u001b[0m     \u001b[38;5;28mprint\u001b[39m(\u001b[38;5;124mf\u001b[39m\u001b[38;5;124m\"\u001b[39m\u001b[38;5;124mERROR in ColumnGeneration : \u001b[39m\u001b[38;5;132;01m{\u001b[39;00me\u001b[38;5;132;01m}\u001b[39;00m\u001b[38;5;124m\"\u001b[39m)\n",
      "File \u001b[1;32mc:\\Users\\minol\\Desktop\\master-thesis\\solver\\CG_basic.py:575\u001b[0m, in \u001b[0;36mColumnGeneration.execute\u001b[1;34m(self)\u001b[0m\n\u001b[0;32m    570\u001b[0m new_columns_found \u001b[38;5;241m=\u001b[39m \u001b[38;5;28;01mFalse\u001b[39;00m\n\u001b[0;32m    572\u001b[0m \u001b[38;5;28;01mfor\u001b[39;00m n \u001b[38;5;129;01min\u001b[39;00m \u001b[38;5;28mrange\u001b[39m(N):\n\u001b[0;32m    573\u001b[0m \n\u001b[0;32m    574\u001b[0m     \u001b[38;5;66;03m# non deve essere infeasible\u001b[39;00m\n\u001b[1;32m--> 575\u001b[0m     new_column, x, reduced_cost \u001b[38;5;241m=\u001b[39m \u001b[43mpricings\u001b[49m\u001b[43m[\u001b[49m\u001b[43mn\u001b[49m\u001b[43m]\u001b[49m\u001b[38;5;241;43m.\u001b[39;49m\u001b[43moptimize\u001b[49m\u001b[43m(\u001b[49m\u001b[43mλ_positive\u001b[49m\u001b[43m,\u001b[49m\u001b[43m \u001b[49m\u001b[43mμ_positive\u001b[49m\u001b[43m,\u001b[49m\u001b[43m \u001b[49m\u001b[43mη\u001b[49m\u001b[43m[\u001b[49m\u001b[43mn\u001b[49m\u001b[43m]\u001b[49m\u001b[43m)\u001b[49m\n\u001b[0;32m    577\u001b[0m     \u001b[38;5;28;01mif\u001b[39;00m reduced_cost \u001b[38;5;241m>\u001b[39m\u001b[38;5;241m=\u001b[39m \u001b[38;5;241m-\u001b[39mEPSILON:\n\u001b[0;32m    578\u001b[0m         \u001b[38;5;66;03m#print(\"--> NOT added to master\")\u001b[39;00m\n\u001b[0;32m    579\u001b[0m         \u001b[38;5;28;01mpass\u001b[39;00m\n",
      "File \u001b[1;32mc:\\Users\\minol\\Desktop\\master-thesis\\solver\\CG_basic.py:383\u001b[0m, in \u001b[0;36mPricing.optimize\u001b[1;34m(self, λ_positive, μ_positive, η_n)\u001b[0m\n\u001b[0;32m    358\u001b[0m (\n\u001b[0;32m    359\u001b[0m     I,A,c,P,a2,\n\u001b[0;32m    360\u001b[0m     T,D,\n\u001b[1;32m   (...)\u001b[0m\n\u001b[0;32m    363\u001b[0m     b_microservices_zero, b_connections_zero_not_implied, b_connections_one_actual\n\u001b[0;32m    364\u001b[0m ) \u001b[38;5;241m=\u001b[39m \u001b[38;5;28mself\u001b[39m\u001b[38;5;241m.\u001b[39mdata\n\u001b[0;32m    366\u001b[0m model\u001b[38;5;241m.\u001b[39msetObjective(\n\u001b[0;32m    367\u001b[0m     gp\u001b[38;5;241m.\u001b[39mquicksum(c[i] \u001b[38;5;241m*\u001b[39m x[u,i] \u001b[38;5;28;01mfor\u001b[39;00m u \u001b[38;5;129;01min\u001b[39;00m \u001b[38;5;28mrange\u001b[39m(T) \u001b[38;5;28;01mfor\u001b[39;00m i \u001b[38;5;129;01min\u001b[39;00m \u001b[38;5;28mrange\u001b[39m(I)) \n\u001b[0;32m    368\u001b[0m     \u001b[38;5;241m-\u001b[39m η_n\n\u001b[1;32m   (...)\u001b[0m\n\u001b[0;32m    380\u001b[0m     GRB\u001b[38;5;241m.\u001b[39mMINIMIZE\n\u001b[0;32m    381\u001b[0m )\n\u001b[1;32m--> 383\u001b[0m \u001b[43mmodel\u001b[49m\u001b[38;5;241;43m.\u001b[39;49m\u001b[43moptimize\u001b[49m\u001b[43m(\u001b[49m\u001b[43m)\u001b[49m\n\u001b[0;32m    384\u001b[0m \u001b[38;5;28;01mif\u001b[39;00m model\u001b[38;5;241m.\u001b[39mStatus \u001b[38;5;241m==\u001b[39m GRB\u001b[38;5;241m.\u001b[39mINFEASIBLE:\n\u001b[0;32m    385\u001b[0m     \u001b[38;5;28;01mraise\u001b[39;00m InfeasiblePricing()\n",
      "\u001b[1;31mKeyboardInterrupt\u001b[0m: "
     ]
    }
   ],
   "source": [
    "for network_size in indexes:\n",
    "        \n",
    "    for idx in indexes[network_size]:\n",
    "\n",
    "        i = instances[idx]\n",
    "\n",
    "        network_filename, network_rp_filename, app_merged, app_merged_rp, app_filenames, app_rp_filenames = i\n",
    "        print(f\"{idx} {len(app_filenames)} apps, {network_rp_filename} {app_merged}\")\n",
    "        \n",
    "        try:\n",
    "            cg = ColumnGeneration(\n",
    "                N= len(app_filenames),\n",
    "                filenames= (\n",
    "                    network_filename, network_rp_filename, \n",
    "                    app_filenames, app_rp_filenames\n",
    "                )\n",
    "            )\n",
    "            result = cg.execute()\n",
    "        except Exception as e:\n",
    "            print(f\"ERROR in ColumnGeneration : {e}\")\n",
    "            raise RuntimeError()\n",
    "    \n",
    "        print(\"\\n\" + \"-\" * 80 + \"\\n\")"
   ]
  }
 ],
 "metadata": {
  "kernelspec": {
   "display_name": "Python 3",
   "language": "python",
   "name": "python3"
  },
  "language_info": {
   "codemirror_mode": {
    "name": "ipython",
    "version": 3
   },
   "file_extension": ".py",
   "mimetype": "text/x-python",
   "name": "python",
   "nbconvert_exporter": "python",
   "pygments_lexer": "ipython3",
   "version": "3.12.1"
  }
 },
 "nbformat": 4,
 "nbformat_minor": 2
}
