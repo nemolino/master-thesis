{
 "cells": [
  {
   "cell_type": "code",
   "execution_count": null,
   "metadata": {},
   "outputs": [],
   "source": [
    "import pickle\n",
    "\n",
    "from CG_basic_R_S import ColumnGeneration"
   ]
  },
  {
   "cell_type": "code",
   "execution_count": null,
   "metadata": {},
   "outputs": [],
   "source": [
    "with open('dumps/instances_dataset_FINAL.pickle', 'rb') as f:\n",
    "   instances = pickle.load(f)\n",
    "\n",
    "with open('dumps/needed_primal_indexes.pickle', 'rb') as f:\n",
    "   indexes = pickle.load(f)"
   ]
  },
  {
   "cell_type": "code",
   "execution_count": null,
   "metadata": {},
   "outputs": [],
   "source": [
    "for network_size in indexes:\n",
    "        \n",
    "    for idx in indexes[network_size]:\n",
    "\n",
    "        i = instances[idx]\n",
    "\n",
    "        network_filename, network_rp_filename, app_merged, app_merged_rp, app_filenames, app_rp_filenames = i\n",
    "        print(f\"{idx} {len(app_filenames)} apps, {network_rp_filename} {app_merged}\")\n",
    "        \n",
    "        try:\n",
    "            cg = ColumnGeneration(\n",
    "                N= len(app_filenames),\n",
    "                filenames= (\n",
    "                    network_filename, network_rp_filename, \n",
    "                    app_filenames, app_rp_filenames,\n",
    "                    app_merged, app_merged_rp\n",
    "                )\n",
    "            )\n",
    "            cg.execute()\n",
    "        except Exception as e:\n",
    "            print(f\"ERROR in ColumnGeneration : {e}\")\n",
    "            raise RuntimeError()\n",
    "    \n",
    "        print(\"\\n\" + \"-\" * 80 + \"\\n\")"
   ]
  }
 ],
 "metadata": {
  "kernelspec": {
   "display_name": "Python 3",
   "language": "python",
   "name": "python3"
  },
  "language_info": {
   "codemirror_mode": {
    "name": "ipython",
    "version": 3
   },
   "file_extension": ".py",
   "mimetype": "text/x-python",
   "name": "python",
   "nbconvert_exporter": "python",
   "pygments_lexer": "ipython3",
   "version": "3.12.1"
  }
 },
 "nbformat": 4,
 "nbformat_minor": 2
}
