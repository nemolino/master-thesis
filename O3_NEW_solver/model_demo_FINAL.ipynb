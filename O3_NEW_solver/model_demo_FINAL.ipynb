{
 "cells": [
  {
   "cell_type": "code",
   "execution_count": 1,
   "metadata": {},
   "outputs": [],
   "source": [
    "#from instance_unchecked import Instance, InfeasibleOnBuilding\n",
    "from instance import Instance, InfeasibleOnBuilding\n",
    "from merge_apps_util import merge\n",
    "from model import ModelSolver\n",
    "from random import random, choice, seed\n",
    "\n",
    "from time import perf_counter\n",
    "import pickle\n"
   ]
  },
  {
   "cell_type": "markdown",
   "metadata": {},
   "source": [
    "# Generazione dataset di instanze di mapping di multiple applicazioni"
   ]
  },
  {
   "cell_type": "code",
   "execution_count": 2,
   "metadata": {},
   "outputs": [],
   "source": [
    "seed(42)\n",
    "\n",
    "if False:\n",
    "    path_apps, tree_apps, graph_apps = [], [], []\n",
    "    for size in range(3,16):\n",
    "        path_apps.append(f\"path_{size:02d}_a\")\n",
    "        tree_apps.append(f\"tree_{size:02d}_a\")\n",
    "        tree_apps.append(f\"tree_{size:02d}_b\")\n",
    "        tree_apps.append(f\"tree_{size:02d}_c\")\n",
    "        tree_apps.append(f\"tree_{size:02d}_d\")\n",
    "        graph_apps.append(f\"graph_{size:02d}_a\")\n",
    "        graph_apps.append(f\"graph_{size:02d}_b\")\n",
    "        graph_apps.append(f\"graph_{size:02d}_c\")\n",
    "        graph_apps.append(f\"graph_{size:02d}_d\")\n",
    "\n",
    "    # for a in path_apps: print(a)\n",
    "    # for a in tree_apps: print(a)\n",
    "    # for a in graph_apps: print(a)\n",
    "\n",
    "    ID = 0\n",
    "    instances = []\n",
    "    for n_size in range(30,91,10):\n",
    "        for apps_count in range(2,31):\n",
    "\n",
    "            for _ in range(3):\n",
    "\n",
    "                n_suffix = choice(['a','b','c','d'])\n",
    "                n_rp = choice([0,1,2,3,4])\n",
    "                network_filename = f\"DATASET_2/networks/network_{n_size:03d}_{n_suffix}.dat\"\n",
    "                network_rp_filename = f\"DATASET_2/networks/network_{n_size:03d}_{n_suffix}_rp_{n_rp}.dat\"\n",
    "\n",
    "                app_filenames, app_rp_filenames = [], []\n",
    "                for _ in range(apps_count): \n",
    "                    r = random()\n",
    "                    if r < 0.2: app = choice(path_apps)     # 0.2 prob to choose path\n",
    "                    elif r < 0.6: app = choice(tree_apps)   # 0.4 prob to choose tree\n",
    "                    else: app = choice(graph_apps)          # 0.4 prob to choose graph\n",
    "                    a_rp = choice((0,1,2,3,4))\n",
    "                    app_filenames.append(f\"DATASET_2/apps/{app}.dat\")\n",
    "                    app_rp_filenames.append(f\"DATASET_2/apps/{app}_rp_{a_rp}.dat\")\n",
    "\n",
    "                output_app_filename = f\"DATASET_2/apps_merged_FINAL2/id_{ID:04d}.dat\"\n",
    "                output_app_rp_filename = f\"DATASET_2/apps_merged_FINAL2/id_{ID:04d}_rp.dat\"\n",
    "                ID += 1\n",
    "\n",
    "                try:\n",
    "                    merge(app_filenames, app_rp_filenames, output_app_filename, output_app_rp_filename)\n",
    "                except Exception as e:\n",
    "                    print(\"ERROR in merge, should not happen!\")\n",
    "                \n",
    "                instances.append(\n",
    "                    (network_filename, network_rp_filename, output_app_filename, output_app_rp_filename, app_filenames, app_rp_filenames)\n",
    "                )\n",
    "\n",
    "    # for i in instances:\n",
    "    #     print(i)\n",
    "\n",
    "    # with open('instances_dataset_FINAL.pickle', 'wb') as f:\n",
    "    #    pickle.dump(instances, f, protocol=pickle.HIGHEST_PROTOCOL)"
   ]
  },
  {
   "cell_type": "markdown",
   "metadata": {},
   "source": [
    "Le istanze sono salvate nel file :  instances_dataset_FINAL.pickle"
   ]
  },
  {
   "cell_type": "code",
   "execution_count": 3,
   "metadata": {},
   "outputs": [],
   "source": [
    "with open('instances_dataset_FINAL.pickle', 'rb') as f:\n",
    "   instances = pickle.load(f)\n",
    "\n",
    "#for i in instances: print(i)"
   ]
  },
  {
   "cell_type": "markdown",
   "metadata": {},
   "source": [
    "# Root Node Relaxation del problema tagliato\n",
    "\n",
    "risultati in RNR_30_90.txt"
   ]
  },
  {
   "cell_type": "code",
   "execution_count": 4,
   "metadata": {},
   "outputs": [],
   "source": [
    "if False:\n",
    "\n",
    "    for idx,i in enumerate(instances):\n",
    "\n",
    "        print()\n",
    "        print(idx, len(i[4]), i)\n",
    "        try:\n",
    "            instance = Instance.build(\n",
    "                network_filename=i[0], \n",
    "                network_rp_filename=i[1], \n",
    "                app_filename=i[2], \n",
    "                app_rp_filename=i[3]\n",
    "            )\n",
    "        except InfeasibleOnBuilding:\n",
    "            print(\"INFEASIBLE on building\")\n",
    "            continue\n",
    "\n",
    "        result_rnr = ModelSolver.optimize_model_at_root_node(instance)\n",
    "        print(f\"RNR {result_rnr}\")\n",
    "        \n",
    "        if isinstance(result_rnr,tuple) and len(result_rnr) == 3:\n",
    "\n",
    "            assert result_rnr[1] == \"INFEASIBLE\" or result_rnr[1] == \"OPTIMAL\"\n",
    "\n",
    "            # if result_rnr[1] == \"OPTIMAL\": \n",
    "            #     result_compact = None #ModelSolver.optimize_model(instance)\n",
    "            #     print(f\"COMPACT {result_compact}\")\n",
    "            # else:\n",
    "            #     assert result_rnr[1] == \"INFEASIBLE\""
   ]
  },
  {
   "cell_type": "markdown",
   "metadata": {},
   "source": [
    "# Compact Model con time limit 30 min delle istanze non RNR infeasible"
   ]
  },
  {
   "cell_type": "code",
   "execution_count": 5,
   "metadata": {},
   "outputs": [],
   "source": [
    "with open('rnr_feasible_instances_indexes.pickle', 'rb') as f:\n",
    "   indexes = pickle.load(f)"
   ]
  },
  {
   "cell_type": "code",
   "execution_count": 6,
   "metadata": {},
   "outputs": [
    {
     "name": "stdout",
     "output_type": "stream",
     "text": [
      "\n",
      "463 11 ('DATASET_2/networks/network_080_b.dat', 'DATASET_2/networks/network_080_b_rp_2.dat', 'DATASET_2/apps_merged_FINAL/id_0463.dat', 'DATASET_2/apps_merged_FINAL/id_0463_rp.dat', ['DATASET_2/apps/path_08_a.dat', 'DATASET_2/apps/tree_10_a.dat', 'DATASET_2/apps/graph_10_c.dat', 'DATASET_2/apps/tree_04_a.dat', 'DATASET_2/apps/path_12_a.dat', 'DATASET_2/apps/graph_12_b.dat', 'DATASET_2/apps/tree_15_a.dat', 'DATASET_2/apps/tree_07_a.dat', 'DATASET_2/apps/graph_05_b.dat', 'DATASET_2/apps/tree_13_a.dat', 'DATASET_2/apps/tree_15_b.dat'], ['DATASET_2/apps/path_08_a_rp_4.dat', 'DATASET_2/apps/tree_10_a_rp_1.dat', 'DATASET_2/apps/graph_10_c_rp_1.dat', 'DATASET_2/apps/tree_04_a_rp_1.dat', 'DATASET_2/apps/path_12_a_rp_0.dat', 'DATASET_2/apps/graph_12_b_rp_2.dat', 'DATASET_2/apps/tree_15_a_rp_4.dat', 'DATASET_2/apps/tree_07_a_rp_4.dat', 'DATASET_2/apps/graph_05_b_rp_1.dat', 'DATASET_2/apps/tree_13_a_rp_1.dat', 'DATASET_2/apps/tree_15_b_rp_0.dat'])\n"
     ]
    },
    {
     "ename": "KeyboardInterrupt",
     "evalue": "",
     "output_type": "error",
     "traceback": [
      "\u001b[0;31m---------------------------------------------------------------------------\u001b[0m",
      "\u001b[0;31mKeyboardInterrupt\u001b[0m                         Traceback (most recent call last)",
      "Input \u001b[0;32mIn [6]\u001b[0m, in \u001b[0;36m<cell line: 1>\u001b[0;34m()\u001b[0m\n\u001b[1;32m     18\u001b[0m     \u001b[38;5;28mprint\u001b[39m(\u001b[38;5;124m\"\u001b[39m\u001b[38;5;124mINFEASIBLE on building\u001b[39m\u001b[38;5;124m\"\u001b[39m)\n\u001b[1;32m     19\u001b[0m     \u001b[38;5;28;01mcontinue\u001b[39;00m\n\u001b[0;32m---> 21\u001b[0m result_compact \u001b[38;5;241m=\u001b[39m \u001b[43mModelSolver\u001b[49m\u001b[38;5;241;43m.\u001b[39;49m\u001b[43moptimize_model\u001b[49m\u001b[43m(\u001b[49m\u001b[43minstance\u001b[49m\u001b[43m)\u001b[49m\n\u001b[1;32m     22\u001b[0m \u001b[38;5;28mprint\u001b[39m(\u001b[38;5;124mf\u001b[39m\u001b[38;5;124m\"\u001b[39m\u001b[38;5;124mCOMPACT \u001b[39m\u001b[38;5;132;01m{\u001b[39;00mresult_compact\u001b[38;5;132;01m}\u001b[39;00m\u001b[38;5;124m\"\u001b[39m)\n",
      "File \u001b[0;32m~/Desktop/tesi_nuove_strutture/tesi-magistrale/O3_NEW_solver/model.py:173\u001b[0m, in \u001b[0;36mModelSolver.optimize_model\u001b[0;34m(instance)\u001b[0m\n\u001b[1;32m    169\u001b[0m \u001b[38;5;129m@staticmethod\u001b[39m\n\u001b[1;32m    170\u001b[0m \u001b[38;5;28;01mdef\u001b[39;00m \u001b[38;5;21moptimize_model\u001b[39m(instance):\n\u001b[1;32m    172\u001b[0m     start \u001b[38;5;241m=\u001b[39m perf_counter()\n\u001b[0;32m--> 173\u001b[0m     model, x \u001b[38;5;241m=\u001b[39m \u001b[43mModelSolver\u001b[49m\u001b[38;5;241;43m.\u001b[39;49m\u001b[43mbuild_model\u001b[49m\u001b[43m(\u001b[49m\u001b[43minstance\u001b[49m\u001b[43m)\u001b[49m\n\u001b[1;32m    174\u001b[0m     end \u001b[38;5;241m=\u001b[39m perf_counter()\n\u001b[1;32m    175\u001b[0m     \u001b[38;5;66;03m#print(f\"{end-start:.3f} s is the total build time of the model\")\u001b[39;00m\n",
      "File \u001b[0;32m~/Desktop/tesi_nuove_strutture/tesi-magistrale/O3_NEW_solver/model.py:127\u001b[0m, in \u001b[0;36mModelSolver.build_model\u001b[0;34m(ins, vtype)\u001b[0m\n\u001b[1;32m    125\u001b[0m     \u001b[38;5;28;01mfor\u001b[39;00m (i,j) \u001b[38;5;129;01min\u001b[39;00m b_connections_one_actual[u][v]:\n\u001b[1;32m    126\u001b[0m         \u001b[38;5;28;01mfor\u001b[39;00m (l,m) \u001b[38;5;129;01min\u001b[39;00m P[i][j]:\n\u001b[0;32m--> 127\u001b[0m             lhs[(l,m)]\u001b[38;5;241m.\u001b[39madd(\u001b[43mq_connections_R_bandwidth\u001b[49m\u001b[43m[\u001b[49m\u001b[43mu\u001b[49m\u001b[43m,\u001b[49m\u001b[43mv\u001b[49m\u001b[43m]\u001b[49m\u001b[43m \u001b[49m\u001b[38;5;241;43m*\u001b[39;49m\u001b[43m \u001b[49m\u001b[43mx\u001b[49m\u001b[43m[\u001b[49m\u001b[43mu\u001b[49m\u001b[43m,\u001b[49m\u001b[43mi\u001b[49m\u001b[43m]\u001b[49m\u001b[43m \u001b[49m\u001b[38;5;241;43m*\u001b[39;49m\u001b[43m \u001b[49m\u001b[43mx\u001b[49m\u001b[43m[\u001b[49m\u001b[43mv\u001b[49m\u001b[43m,\u001b[49m\u001b[43mj\u001b[49m\u001b[43m]\u001b[49m)\n\u001b[1;32m    129\u001b[0m model\u001b[38;5;241m.\u001b[39maddConstrs(\n\u001b[1;32m    130\u001b[0m     (\n\u001b[1;32m    131\u001b[0m         lhs[(l,m)] \u001b[38;5;241m<\u001b[39m\u001b[38;5;241m=\u001b[39m Q_links_R_bandwidth[l,m]\n\u001b[0;32m   (...)\u001b[0m\n\u001b[1;32m    134\u001b[0m     name\u001b[38;5;241m=\u001b[39m\u001b[38;5;124m'\u001b[39m\u001b[38;5;124mon_link_(l,m)_consumption_of_resource_bandwidth\u001b[39m\u001b[38;5;124m'\u001b[39m\n\u001b[1;32m    135\u001b[0m )\n\u001b[1;32m    136\u001b[0m end \u001b[38;5;241m=\u001b[39m perf_counter()\n",
      "File \u001b[0;32msrc/gurobipy/linexpr.pxi:536\u001b[0m, in \u001b[0;36mgurobipy.LinExpr.__mul__\u001b[0;34m()\u001b[0m\n",
      "File \u001b[0;32msrc/gurobipy/quadexpr.pxi:45\u001b[0m, in \u001b[0;36mgurobipy.QuadExpr.__init__\u001b[0;34m()\u001b[0m\n",
      "File \u001b[0;32msrc/gurobipy/linexpr.pxi:48\u001b[0m, in \u001b[0;36mgurobipy.LinExpr.__init__\u001b[0;34m()\u001b[0m\n",
      "File \u001b[0;32m/Library/Frameworks/Python.framework/Versions/3.10/lib/python3.10/abc.py:117\u001b[0m, in \u001b[0;36mABCMeta.__instancecheck__\u001b[0;34m(cls, instance)\u001b[0m\n\u001b[1;32m    111\u001b[0m     \u001b[38;5;124;03m\"\"\"Register a virtual subclass of an ABC.\u001b[39;00m\n\u001b[1;32m    112\u001b[0m \n\u001b[1;32m    113\u001b[0m \u001b[38;5;124;03m    Returns the subclass, to allow usage as a class decorator.\u001b[39;00m\n\u001b[1;32m    114\u001b[0m \u001b[38;5;124;03m    \"\"\"\u001b[39;00m\n\u001b[1;32m    115\u001b[0m     \u001b[38;5;28;01mreturn\u001b[39;00m _abc_register(\u001b[38;5;28mcls\u001b[39m, subclass)\n\u001b[0;32m--> 117\u001b[0m \u001b[38;5;28;01mdef\u001b[39;00m \u001b[38;5;21m__instancecheck__\u001b[39m(\u001b[38;5;28mcls\u001b[39m, instance):\n\u001b[1;32m    118\u001b[0m     \u001b[38;5;124;03m\"\"\"Override for isinstance(instance, cls).\"\"\"\u001b[39;00m\n\u001b[1;32m    119\u001b[0m     \u001b[38;5;28;01mreturn\u001b[39;00m _abc_instancecheck(\u001b[38;5;28mcls\u001b[39m, instance)\n",
      "\u001b[0;31mKeyboardInterrupt\u001b[0m: "
     ]
    }
   ],
   "source": [
    "for network_size in indexes:\n",
    "        \n",
    "    for idx in indexes[network_size]:\n",
    "\n",
    "        if idx < 463: continue\n",
    "\n",
    "        i = instances[idx]\n",
    "        print()\n",
    "        print(idx, len(i[4]), i)\n",
    "        try:\n",
    "            instance = Instance.build(\n",
    "                network_filename=i[0], \n",
    "                network_rp_filename=i[1], \n",
    "                app_filename=i[2], \n",
    "                app_rp_filename=i[3]\n",
    "            )\n",
    "        except InfeasibleOnBuilding:\n",
    "            print(\"INFEASIBLE on building\")\n",
    "            continue\n",
    "\n",
    "        result_compact = ModelSolver.optimize_model(instance)\n",
    "        print(f\"COMPACT {result_compact}\")"
   ]
  }
 ],
 "metadata": {
  "kernelspec": {
   "display_name": "Python 3",
   "language": "python",
   "name": "python3"
  },
  "language_info": {
   "codemirror_mode": {
    "name": "ipython",
    "version": 3
   },
   "file_extension": ".py",
   "mimetype": "text/x-python",
   "name": "python",
   "nbconvert_exporter": "python",
   "pygments_lexer": "ipython3",
   "version": "3.10.5"
  }
 },
 "nbformat": 4,
 "nbformat_minor": 2
}
